{
  "nbformat": 4,
  "nbformat_minor": 0,
  "metadata": {
    "colab": {
      "name": "lesson4-1-IMDB 影评分类.ipynb",
      "provenance": [],
      "collapsed_sections": [],
      "toc_visible": true
    },
    "kernelspec": {
      "name": "python3",
      "display_name": "Python 3"
    },
    "accelerator": "GPU"
  },
  "cells": [
    {
      "cell_type": "markdown",
      "metadata": {
        "id": "CvvhUHHhjNET",
        "colab_type": "text"
      },
      "source": [
        "公众号：进击的MsCat"
      ]
    },
    {
      "cell_type": "code",
      "metadata": {
        "id": "DLtf1obylqsh",
        "colab_type": "code",
        "colab": {}
      },
      "source": [
        "from fastai import *\n",
        "from fastai.text import *"
      ],
      "execution_count": 0,
      "outputs": []
    },
    {
      "cell_type": "code",
      "metadata": {
        "id": "jYhB2ZHZjIy4",
        "colab_type": "code",
        "outputId": "10ef4617-4e98-4aa3-8955-d5f5a82ed080",
        "colab": {
          "base_uri": "https://localhost:8080/",
          "height": 34
        }
      },
      "source": [
        "path = untar_data(URLs.IMDB_SAMPLE)\n",
        "path.ls()"
      ],
      "execution_count": 0,
      "outputs": [
        {
          "output_type": "execute_result",
          "data": {
            "text/plain": [
              "[PosixPath('/root/.fastai/data/imdb_sample/texts.csv')]"
            ]
          },
          "metadata": {
            "tags": []
          },
          "execution_count": 2
        }
      ]
    },
    {
      "cell_type": "markdown",
      "metadata": {
        "id": "SmoGiCgP2boL",
        "colab_type": "text"
      },
      "source": [
        "is_valid标记该条数据是训练集还是验证集，如果is_valid是True，则该条数据是验证集"
      ]
    },
    {
      "cell_type": "code",
      "metadata": {
        "id": "RaSu1mT5mXj-",
        "colab_type": "code",
        "outputId": "7422616d-de05-4b14-c3c8-9bd432e21858",
        "colab": {
          "base_uri": "https://localhost:8080/",
          "height": 204
        }
      },
      "source": [
        "df = pd.read_csv(path/'texts.csv')\n",
        "df.head()"
      ],
      "execution_count": 0,
      "outputs": [
        {
          "output_type": "execute_result",
          "data": {
            "text/html": [
              "<div>\n",
              "<style scoped>\n",
              "    .dataframe tbody tr th:only-of-type {\n",
              "        vertical-align: middle;\n",
              "    }\n",
              "\n",
              "    .dataframe tbody tr th {\n",
              "        vertical-align: top;\n",
              "    }\n",
              "\n",
              "    .dataframe thead th {\n",
              "        text-align: right;\n",
              "    }\n",
              "</style>\n",
              "<table border=\"1\" class=\"dataframe\">\n",
              "  <thead>\n",
              "    <tr style=\"text-align: right;\">\n",
              "      <th></th>\n",
              "      <th>label</th>\n",
              "      <th>text</th>\n",
              "      <th>is_valid</th>\n",
              "    </tr>\n",
              "  </thead>\n",
              "  <tbody>\n",
              "    <tr>\n",
              "      <th>0</th>\n",
              "      <td>negative</td>\n",
              "      <td>Un-bleeping-believable! Meg Ryan doesn't even ...</td>\n",
              "      <td>False</td>\n",
              "    </tr>\n",
              "    <tr>\n",
              "      <th>1</th>\n",
              "      <td>positive</td>\n",
              "      <td>This is a extremely well-made film. The acting...</td>\n",
              "      <td>False</td>\n",
              "    </tr>\n",
              "    <tr>\n",
              "      <th>2</th>\n",
              "      <td>negative</td>\n",
              "      <td>Every once in a long while a movie will come a...</td>\n",
              "      <td>False</td>\n",
              "    </tr>\n",
              "    <tr>\n",
              "      <th>3</th>\n",
              "      <td>positive</td>\n",
              "      <td>Name just says it all. I watched this movie wi...</td>\n",
              "      <td>False</td>\n",
              "    </tr>\n",
              "    <tr>\n",
              "      <th>4</th>\n",
              "      <td>negative</td>\n",
              "      <td>This movie succeeds at being one of the most u...</td>\n",
              "      <td>False</td>\n",
              "    </tr>\n",
              "  </tbody>\n",
              "</table>\n",
              "</div>"
            ],
            "text/plain": [
              "      label                                               text  is_valid\n",
              "0  negative  Un-bleeping-believable! Meg Ryan doesn't even ...     False\n",
              "1  positive  This is a extremely well-made film. The acting...     False\n",
              "2  negative  Every once in a long while a movie will come a...     False\n",
              "3  positive  Name just says it all. I watched this movie wi...     False\n",
              "4  negative  This movie succeeds at being one of the most u...     False"
            ]
          },
          "metadata": {
            "tags": []
          },
          "execution_count": 3
        }
      ]
    },
    {
      "cell_type": "markdown",
      "metadata": {
        "id": "hJc2mvYCnsUF",
        "colab_type": "text"
      },
      "source": [
        "TextDataBunch是DataBunch的子类，from_csv从csv中读取数据，构建TextDataBunch对象。\n",
        "在TextDataBunch里对数据进行“分词Tokenization”和“数字化Numericalization”，Tokenization需要注意空格、连写词、标点，并且去掉可能有的html代码，从而将整句分割为标识符token。"
      ]
    },
    {
      "cell_type": "code",
      "metadata": {
        "id": "0tAtbcu2mv9u",
        "colab_type": "code",
        "outputId": "ba518072-40e8-45b3-cbbb-f80585eca8db",
        "colab": {
          "base_uri": "https://localhost:8080/",
          "height": 374
        }
      },
      "source": [
        "data_lm = TextDataBunch.from_csv(path,'texts.csv')\n",
        "data_lm.show_batch()"
      ],
      "execution_count": 0,
      "outputs": [
        {
          "output_type": "display_data",
          "data": {
            "text/html": [
              "<table border=\"1\" class=\"dataframe\">\n",
              "  <thead>\n",
              "    <tr style=\"text-align: right;\">\n",
              "      <th>text</th>\n",
              "      <th>target</th>\n",
              "    </tr>\n",
              "  </thead>\n",
              "  <tbody>\n",
              "    <tr>\n",
              "      <td>xxbos xxmaj now that xxmaj che(2008 ) has finished its relatively short xxmaj australian cinema run ( extremely limited xxunk screen in xxmaj sydney , after xxunk ) , i can xxunk join both xxunk of \" xxmaj at xxmaj the xxmaj movies \" in taking xxmaj steven xxmaj soderbergh to task . \\n \\n  xxmaj it 's usually satisfying to watch a film director change his style /</td>\n",
              "      <td>negative</td>\n",
              "    </tr>\n",
              "    <tr>\n",
              "      <td>xxbos xxmaj this film sat on my xxmaj tivo for weeks before i watched it . i dreaded a self - indulgent xxunk flick about relationships gone bad . i was wrong ; this was an xxunk xxunk into the screwed - up xxunk of xxmaj new xxmaj yorkers . \\n \\n  xxmaj the format is the same as xxmaj max xxmaj xxunk ' \" xxmaj la xxmaj ronde</td>\n",
              "      <td>positive</td>\n",
              "    </tr>\n",
              "    <tr>\n",
              "      <td>xxbos i really wanted to love this show . i truly , honestly did . \\n \\n  xxmaj for the first time , gay viewers get their own version of the \" xxmaj the xxmaj bachelor \" . xxmaj with the help of his obligatory \" hag \" xxmaj xxunk , xxmaj james , a good looking , well - to - do thirty - something has the chance</td>\n",
              "      <td>negative</td>\n",
              "    </tr>\n",
              "    <tr>\n",
              "      <td>xxbos \\n \\n  i 'm sure things did n't exactly go the same way in the real life of xxmaj homer xxmaj hickam as they did in the film adaptation of his book , xxmaj rocket xxmaj boys , but the movie \" xxmaj october xxmaj sky \" ( an xxunk of the book 's title ) is good enough to stand alone . i have not read xxmaj</td>\n",
              "      <td>positive</td>\n",
              "    </tr>\n",
              "    <tr>\n",
              "      <td>xxbos xxmaj to review this movie , i without any doubt would have to quote that memorable scene in xxmaj tarantino 's \" xxmaj pulp xxmaj fiction \" ( xxunk ) when xxmaj jules and xxmaj vincent are talking about xxmaj mia xxmaj wallace and what she does for a living . xxmaj jules tells xxmaj vincent that the \" xxmaj only thing she did worthwhile was pilot \" .</td>\n",
              "      <td>negative</td>\n",
              "    </tr>\n",
              "  </tbody>\n",
              "</table>"
            ],
            "text/plain": [
              "<IPython.core.display.HTML object>"
            ]
          },
          "metadata": {
            "tags": []
          }
        }
      ]
    },
    {
      "cell_type": "markdown",
      "metadata": {
        "id": "ukxDmAycrnTB",
        "colab_type": "text"
      },
      "source": [
        "保存data_lm databunch到当前目录下，下次重新进入notebook直接load即可获得数据\n"
      ]
    },
    {
      "cell_type": "code",
      "metadata": {
        "id": "e5ZmmMvFrqMz",
        "colab_type": "code",
        "colab": {}
      },
      "source": [
        "data_lm.save()"
      ],
      "execution_count": 0,
      "outputs": []
    },
    {
      "cell_type": "markdown",
      "metadata": {
        "id": "eYZJjYt5tsyN",
        "colab_type": "text"
      },
      "source": [
        "**加载模型：**\n",
        "在最新版本的fastai库环境下，执行下面这个语句会报错：FileNotFoundError: [Errno 2] No such file or directory: '/root/.fastai/data/imdb_sample/tmp/itos.pkl'\n",
        "因为最新的fastai库去掉了TextDataBunch的load方法（仅在v1.0.43及之前可用），替代的加载DataBunch方法为load_data(path)\n"
      ]
    },
    {
      "cell_type": "code",
      "metadata": {
        "id": "s_6_1zVJsQ6a",
        "colab_type": "code",
        "colab": {}
      },
      "source": [
        "#此句会报错\n",
        "#dataload = TextDataBunch.load(path)"
      ],
      "execution_count": 0,
      "outputs": []
    },
    {
      "cell_type": "code",
      "metadata": {
        "id": "0ZU45O4ovlGc",
        "colab_type": "code",
        "colab": {}
      },
      "source": [
        "#替代方案\n",
        "dataload = load_data(path)"
      ],
      "execution_count": 0,
      "outputs": []
    },
    {
      "cell_type": "markdown",
      "metadata": {
        "id": "wuYAAjoCx_SQ",
        "colab_type": "text"
      },
      "source": [
        "使用DataBunch类的show_batch()方法查看数据集的大致格式与内容。默认show_batch()显示数据集的列标签和前5行"
      ]
    },
    {
      "cell_type": "code",
      "metadata": {
        "id": "x1likZfVvtz_",
        "colab_type": "code",
        "outputId": "40d77dc7-0c32-4264-c201-bd58919739e0",
        "colab": {
          "base_uri": "https://localhost:8080/",
          "height": 374
        }
      },
      "source": [
        "dataload.show_batch()"
      ],
      "execution_count": 0,
      "outputs": [
        {
          "output_type": "display_data",
          "data": {
            "text/html": [
              "<table border=\"1\" class=\"dataframe\">\n",
              "  <thead>\n",
              "    <tr style=\"text-align: right;\">\n",
              "      <th>text</th>\n",
              "      <th>target</th>\n",
              "    </tr>\n",
              "  </thead>\n",
              "  <tbody>\n",
              "    <tr>\n",
              "      <td>xxbos xxmaj now that xxmaj che(2008 ) has finished its relatively short xxmaj australian cinema run ( extremely limited xxunk screen in xxmaj sydney , after xxunk ) , i can xxunk join both xxunk of \" xxmaj at xxmaj the xxmaj movies \" in taking xxmaj steven xxmaj soderbergh to task . \\n \\n  xxmaj it 's usually satisfying to watch a film director change his style /</td>\n",
              "      <td>negative</td>\n",
              "    </tr>\n",
              "    <tr>\n",
              "      <td>xxbos xxmaj this film sat on my xxmaj tivo for weeks before i watched it . i dreaded a self - indulgent xxunk flick about relationships gone bad . i was wrong ; this was an xxunk xxunk into the screwed - up xxunk of xxmaj new xxmaj yorkers . \\n \\n  xxmaj the format is the same as xxmaj max xxmaj xxunk ' \" xxmaj la xxmaj ronde</td>\n",
              "      <td>positive</td>\n",
              "    </tr>\n",
              "    <tr>\n",
              "      <td>xxbos i really wanted to love this show . i truly , honestly did . \\n \\n  xxmaj for the first time , gay viewers get their own version of the \" xxmaj the xxmaj bachelor \" . xxmaj with the help of his obligatory \" hag \" xxmaj xxunk , xxmaj james , a good looking , well - to - do thirty - something has the chance</td>\n",
              "      <td>negative</td>\n",
              "    </tr>\n",
              "    <tr>\n",
              "      <td>xxbos \\n \\n  i 'm sure things did n't exactly go the same way in the real life of xxmaj homer xxmaj hickam as they did in the film adaptation of his book , xxmaj rocket xxmaj boys , but the movie \" xxmaj october xxmaj sky \" ( an xxunk of the book 's title ) is good enough to stand alone . i have not read xxmaj</td>\n",
              "      <td>positive</td>\n",
              "    </tr>\n",
              "    <tr>\n",
              "      <td>xxbos xxmaj to review this movie , i without any doubt would have to quote that memorable scene in xxmaj tarantino 's \" xxmaj pulp xxmaj fiction \" ( xxunk ) when xxmaj jules and xxmaj vincent are talking about xxmaj mia xxmaj wallace and what she does for a living . xxmaj jules tells xxmaj vincent that the \" xxmaj only thing she did worthwhile was pilot \" .</td>\n",
              "      <td>negative</td>\n",
              "    </tr>\n",
              "  </tbody>\n",
              "</table>"
            ],
            "text/plain": [
              "<IPython.core.display.HTML object>"
            ]
          },
          "metadata": {
            "tags": []
          }
        }
      ]
    },
    {
      "cell_type": "markdown",
      "metadata": {
        "id": "kDjEeQsw9AGF",
        "colab_type": "text"
      },
      "source": [
        "**数字化Numericalization**\n",
        "NumericalizeProcessor将token数字化，\n",
        "x.vocab返回类型为fastai.text.transform.Vocab，Vocab类可进行token和id之间的转化。itos将id转化为token,返回list"
      ]
    },
    {
      "cell_type": "code",
      "metadata": {
        "id": "UZdfqV7OUsrp",
        "colab_type": "code",
        "outputId": "f6af0f59-7825-4e70-ede1-b8edf82d6c72",
        "colab": {
          "base_uri": "https://localhost:8080/",
          "height": 187
        }
      },
      "source": [
        "#dataload.volab.itos[:10]\n",
        "x = NumericalizeProcessor(dataload)\n",
        "x.vocab.itos[:10]"
      ],
      "execution_count": 0,
      "outputs": [
        {
          "output_type": "execute_result",
          "data": {
            "text/plain": [
              "['xxunk',\n",
              " 'xxpad',\n",
              " 'xxbos',\n",
              " 'xxeos',\n",
              " 'xxfld',\n",
              " 'xxmaj',\n",
              " 'xxup',\n",
              " 'xxrep',\n",
              " 'xxwrep',\n",
              " 'the']"
            ]
          },
          "metadata": {
            "tags": []
          },
          "execution_count": 9
        }
      ]
    },
    {
      "cell_type": "markdown",
      "metadata": {
        "id": "c4Ds8734m9Q_",
        "colab_type": "text"
      },
      "source": [
        "查看分词后的文本,train_ds是fastai.data_block.LabelList类型\n",
        "在这个例子中x是TextList，y是CategoryList"
      ]
    },
    {
      "cell_type": "code",
      "metadata": {
        "id": "OllfbnarhA2D",
        "colab_type": "code",
        "outputId": "8030c9c1-9948-490d-8b6c-0732e6b6bf0f",
        "colab": {
          "base_uri": "https://localhost:8080/",
          "height": 54
        }
      },
      "source": [
        "dataload.train_ds[0][0]"
      ],
      "execution_count": 0,
      "outputs": [
        {
          "output_type": "execute_result",
          "data": {
            "text/plain": [
              "Text xxbos xxmaj having enjoyed xxmaj jean xxmaj arthur in \" xxmaj the xxmaj devil and xxmaj miss xxmaj jones \" , my interest was peaked , so i tried sitting through this second - string screwball outing about an xxunk into the death of a xxunk -- but i did n't make it to the end . xxmaj arthur , photographed in a xxunk , movie - magazine fashion , either wants xxunk from ex - husband xxmaj william xxmaj powell or another shot at marriage , but i never felt for her because the character is just a string of xxunk ( she 's the type of heroine prone to comical xxunk , but once inside a morgue -- like all women in these ' 30 's comedies -- she xxunk ) . xxmaj william xxmaj powell xxunk had a high time working with xxmaj miss xxmaj arthur , but you 'd never know it from the end result ; they look awkward standing next to each other , xxunk over their banter . xxmaj the actor playing xxmaj powell 's xxunk is excruciating , and the xxunk for viewer laughs are pregnant with xxunk ."
            ]
          },
          "metadata": {
            "tags": []
          },
          "execution_count": 10
        }
      ]
    },
    {
      "cell_type": "code",
      "metadata": {
        "id": "0pNz-FCLnDaK",
        "colab_type": "code",
        "outputId": "8a17ebbc-4502-460d-c725-ef7ddead0aed",
        "colab": {
          "base_uri": "https://localhost:8080/",
          "height": 343
        }
      },
      "source": [
        "dataload.train_ds"
      ],
      "execution_count": 0,
      "outputs": [
        {
          "output_type": "execute_result",
          "data": {
            "text/plain": [
              "LabelList (799 items)\n",
              "x: TextList\n",
              "xxbos xxmaj having enjoyed xxmaj jean xxmaj arthur in \" xxmaj the xxmaj devil and xxmaj miss xxmaj jones \" , my interest was peaked , so i tried sitting through this second - string screwball outing about an xxunk into the death of a xxunk -- but i did n't make it to the end . xxmaj arthur , photographed in a xxunk , movie - magazine fashion , either wants xxunk from ex - husband xxmaj william xxmaj powell or another shot at marriage , but i never felt for her because the character is just a string of xxunk ( she 's the type of heroine prone to comical xxunk , but once inside a morgue -- like all women in these ' 30 's comedies -- she xxunk ) . xxmaj william xxmaj powell xxunk had a high time working with xxmaj miss xxmaj arthur , but you 'd never know it from the end result ; they look awkward standing next to each other , xxunk over their banter . xxmaj the actor playing xxmaj powell 's xxunk is excruciating , and the xxunk for viewer laughs are pregnant with xxunk .,xxbos xxmaj one of the xxunk of picking up the recent xxmaj bela xxmaj lugosi collection is getting to see delightful movies like xxmaj the xxmaj invisible xxmaj ray . xxmaj boris xxmaj karloff and xxmaj bela xxmaj lugosi team up in a movie that delves into xxunk and radiation and while the science is all perfectly absurd ( especially the camera technique xxmaj karloff , as xxmaj janos xxmaj rukh , uses to determine the site of a certain meteorite ) and downright laughable , i did n't care in the lease because the movie is thoroughly enjoyable . xxmaj the effects are done well for the time , the acting is great , and the finish is particularly strong . xxmaj it reminds me of the pulp sci - fi comics and novels of the 1940s and ' 50s , complete with ray guns and ridiculous science . xxmaj you must watch this movie !,xxbos i found the characters mediocre and the story uninteresting . i never had to read this book ( thankfully ) , or it would have been a painful experience . i got the xxunk to the preview for free but it still was n't worth my time , or my friend 's . i think this story is not worth telling . xxmaj it 's like saying that old people have a past before they got old ( no kidding ) . xxmaj the lives of the main characters were painful to watch , one generation no better than the next at avoiding stupid mistakes . xxmaj however , i think the actors did the best they could with a lame story . i 've always been a big fan of xxmaj ellen xxmaj xxunk . i 'm writing this review to counteract the positive reviews given , which unfortunately convinced me to give this movie a try .,xxbos xxmaj new xxmaj york , i xxmaj love xxmaj you is a collective work of eleven short films , with each segment running around 10 minutes long . xxmaj the shorts do n't exactly relate but they all have something in common , love . xxmaj every short is about finding love , either if it 's about a couple or just two strangers xxunk . xxmaj the film stars an ensemble cast , among them xxmaj xxunk xxunk , xxmaj natalie xxmaj xxunk , xxmaj xxunk xxmaj christensen , xxmaj orlando xxmaj bloom , xxmaj chris xxmaj cooper , xxmaj andy xxmaj garcia , xxmaj christina xxmaj ricci , xxmaj xxunk xxmaj khan , xxmaj robin xxmaj wright xxmaj penn , xxmaj julie xxmaj christie , xxmaj ethan xxmaj hawke , xxmaj xxunk xxmaj cooper , xxmaj rachel xxmaj xxunk , and xxmaj xxunk xxmaj xxunk . xxmaj with such a stellar cast and such an interesting premise , i was expecting a tremendous film ; the problem is xxmaj new xxmaj york i xxmaj love xxmaj you does n't add up . xxmaj it remains the sum of its parts . xxmaj some of the segments are funny , original and interesting but others are so meaningless ( xxmaj orlando xxmaj bloom / xxmaj christina xxmaj ricci and xxmaj ethan xxmaj hawke / xxmaj maggie q segments ) that it 's appalling . xxmaj the film is definitely uneven and has a very experimental tone . xxmaj story - wise , it seems like something a few film students could put together . xxmaj having said that , the film has some great moments as well , one of the best being the segment about an old couple , played by xxmaj eli xxmaj wallach and xxmaj cloris xxmaj leachman , walking along in xxmaj brooklyn on their xxunk wedding xxunk . xxmaj and it 's moments like this , that made me as a viewer , wish the film was more consistent , because , there 's a lot of potential here . xxmaj but , as unsatisfying as the overall story ends up being , for me , the cinematography and soundtrack saved the all thing . xxmaj the editing was perfect , the way the film was shot was very impressive and the ethereal soundtrack , could n't be more fitting . xxmaj in the end , xxmaj new xxmaj york i xxmaj love xxmaj you feels like an experimental film , and as in most experiences there 's xxunk and xxunk . xxmaj it 's how one looks at the film as a whole that will determine if he enjoys it or not . xxmaj it might be worthwhile for some and a waste of time for others . \n",
              " \n",
              "  7 / 10,xxbos xxmaj this movie gets both a 6 / 10 rating from me , as well as a 9 / 10 . xxmaj here is why : xxmaj as a standard horror movie for the standard horror crowd , where action and gore and scares are taken into consideration , this movie xxup will bore you . xxmaj it 's basically a family drama similar to what you 'd see on the xxmaj lifetime channel , but put in a horror universe . xxmaj the story and formula are age - old , xxunk hundreds of times . xxmaj if you 're looking for any originality in the plot structure or the minimal conflicts , you 'll be disappointed . xxmaj take away the zombies and you 'll have something just as melodramatic as a xxmaj beautiful xxmaj mind , xxunk on cheese . xxmaj this is the 6 / 10 . \n",
              " \n",
              "  xxmaj however , the basic synopsis and idea is pretty original and over - the - top . xxmaj it 's literally something you and your friends would joke about when you 're half - drunk . . . but that joke actually got a theatrical release . xxmaj the idea gets a 9 / 10 from me . xxmaj the only reason it is n't perfect is because they could have taken it even further , but they did n't . \n",
              " \n",
              "  xxmaj the mix of both is mixed . i thought it was funny , but as with most all comedies , it was n't xxup that funny . i had my mom and little sister watch it with me and the jokes we made about it were funnier than the jokes scripted . xxmaj there were moments of utter genius , but there were also moments of pure boredom . \n",
              " \n",
              "  i sincerely hope that other movies take this kind of over - the - top risk and original ideas . i just ca n't say it was perfect , or even near it , because of the lack of originality to the plot . \n",
              " \n",
              "  a xxup great family movie . a great movie to watch with a bunch of guys ( or girls ) . a great movie to watch with anyone . . . but if you watch it alone , it will be a bit boring . xxmaj other people always make this kind of movie funnier and xxunk . \n",
              " \n",
              "  4 / 10\n",
              "y: CategoryList\n",
              "negative,positive,negative,positive,negative\n",
              "Path: /root/.fastai/data/imdb_sample"
            ]
          },
          "metadata": {
            "tags": []
          },
          "execution_count": 11
        }
      ]
    },
    {
      "cell_type": "markdown",
      "metadata": {
        "id": "LVomRYq2MuvR",
        "colab_type": "text"
      },
      "source": [
        "dataload.train_ds[0][0]是fastai.text.data.Text类型，data返回数字化的表示"
      ]
    },
    {
      "cell_type": "code",
      "metadata": {
        "id": "oP8PmmHvhjNH",
        "colab_type": "code",
        "outputId": "ea867ac9-ff3c-4d2e-f4e7-93aac858ff35",
        "colab": {
          "base_uri": "https://localhost:8080/",
          "height": 34
        }
      },
      "source": [
        "dataload.train_ds[0][0].data[:10]"
      ],
      "execution_count": 0,
      "outputs": [
        {
          "output_type": "execute_result",
          "data": {
            "text/plain": [
              "array([   2,    5,  269,  621,    5, 2010,    5, 1029,   18,   22])"
            ]
          },
          "metadata": {
            "tags": []
          },
          "execution_count": 12
        }
      ]
    },
    {
      "cell_type": "markdown",
      "metadata": {
        "id": "z4QQjw78DVc1",
        "colab_type": "text"
      },
      "source": [
        "使用data block API创建databunch，因为数据源来自csv文件，因此用from_csv方法。\n",
        "\n",
        "1.   如何划分测试集和验证集？\n",
        " **split_from_df(col=2)**根据第三列（is_valid）的布尔值来区分训练集和验证集：is_valid[index]为正，数据被放入验证集，is_valid[index]为负放入训练集\n",
        "2.   如何给数据加标签？**label_from_df()**方法仅能在通过“from_csv”或“from_df”创建的data对象上使用，给数据加标签值（从第一列获取标签）\n",
        "3. 没有add_test_foler()，因此不创建测试集\n",
        "\n",
        "4. databunch():默认参数创建TextDataBunch\n",
        "\n",
        "\n",
        "\n"
      ]
    },
    {
      "cell_type": "code",
      "metadata": {
        "id": "imT-X64lD1HO",
        "colab_type": "code",
        "colab": {}
      },
      "source": [
        "data = (TextList.from_csv(path,'texts.csv',cols='text').split_from_df(col=2).label_from_df(cols=0).databunch())"
      ],
      "execution_count": 0,
      "outputs": []
    },
    {
      "cell_type": "markdown",
      "metadata": {
        "id": "UddojL1xJjCx",
        "colab_type": "text"
      },
      "source": [
        "上面通过“分词Tokenization”和“数字化Numericalization”。处理了IMDB数据的一个小样本，并创建了TextDataBunch，下面以Wikitext103预训练模型为基础，通过整个IMDB数据集微调模型。"
      ]
    },
    {
      "cell_type": "markdown",
      "metadata": {
        "id": "e_yFF0uNdr_-",
        "colab_type": "text"
      },
      "source": [
        "## 1、建立IMDB语言模型"
      ]
    },
    {
      "cell_type": "markdown",
      "metadata": {
        "id": "HE6G2IlkNRkR",
        "colab_type": "text"
      },
      "source": [
        "### （1）IMDB数据集下载及预处理"
      ]
    },
    {
      "cell_type": "code",
      "metadata": {
        "id": "Kn6rUDcwJ3WC",
        "colab_type": "code",
        "outputId": "98518529-836b-401d-9c0b-85a07956a5b1",
        "colab": {
          "base_uri": "https://localhost:8080/",
          "height": 136
        }
      },
      "source": [
        "path = untar_data(URLs.IMDB)\n",
        "path.ls()"
      ],
      "execution_count": 0,
      "outputs": [
        {
          "output_type": "execute_result",
          "data": {
            "text/plain": [
              "[PosixPath('/root/.fastai/data/imdb/unsup'),\n",
              " PosixPath('/root/.fastai/data/imdb/imdb.vocab'),\n",
              " PosixPath('/root/.fastai/data/imdb/tmp_lm'),\n",
              " PosixPath('/root/.fastai/data/imdb/test'),\n",
              " PosixPath('/root/.fastai/data/imdb/README'),\n",
              " PosixPath('/root/.fastai/data/imdb/tmp_clas'),\n",
              " PosixPath('/root/.fastai/data/imdb/train')]"
            ]
          },
          "metadata": {
            "tags": []
          },
          "execution_count": 14
        }
      ]
    },
    {
      "cell_type": "markdown",
      "metadata": {
        "id": "QOYc-9VqN-gu",
        "colab_type": "text"
      },
      "source": [
        "\n",
        "\n",
        "1.   bs是batch size（批大小）\n",
        "2.   from_folder()表明Input是文件夹里所有的文本文件\n",
        "3.   filter_by_folder(include=['train','test'])\n",
        "表示仅仅保留'train'和'test'里的文件，进一步确定数据源\n",
        "4. Jeremy课程中提到的random_split_by_pct()方法被优化掉了，改成split_by_rand_pct(valid_pct)，随机划分训练集和验证集，验证集中样本数占所有样本数的比率为valid_pct，默认比率为20%\n",
        "5. label_for_lm()指在语言模型上特定的设置标签的方法。因为训练属于自监督学习，标签来自数据自身，而非人工设定。\n",
        "---\n",
        "\n",
        "\n",
        "其他：\n",
        "创建data_lm要花一点时间，因为要进行文本分词和数字化。\n",
        "现在用data_lm.save('tmp_lm')会报\"找不到tmp_lm文件夹\"的错，可改成data_lm.save('tmp_lm.pkl')，也可用\n",
        "data_lm.save()，但是这样会跟其他默认保存的databunch混淆。"
      ]
    },
    {
      "cell_type": "code",
      "metadata": {
        "id": "auXFaidjNQx4",
        "colab_type": "code",
        "colab": {}
      },
      "source": [
        "bs = 48\n",
        "data_lm = (TextList.from_folder(path)\n",
        "      .filter_by_folder(include=['train','test'])\n",
        "      .split_by_rand_pct(0.1)\n",
        "      .label_for_lm()\n",
        "      .databunch(bs=bs))\n"
      ],
      "execution_count": 0,
      "outputs": []
    },
    {
      "cell_type": "code",
      "metadata": {
        "id": "PTLN3Rwn46v9",
        "colab_type": "code",
        "outputId": "b258927c-3cd0-4084-fed3-10e9ca784b09",
        "colab": {
          "base_uri": "https://localhost:8080/",
          "height": 34
        }
      },
      "source": [
        "data_lm.vocab"
      ],
      "execution_count": 0,
      "outputs": [
        {
          "output_type": "execute_result",
          "data": {
            "text/plain": [
              "<fastai.text.transform.Vocab at 0x7fc7ecf984a8>"
            ]
          },
          "metadata": {
            "tags": []
          },
          "execution_count": 16
        }
      ]
    },
    {
      "cell_type": "code",
      "metadata": {
        "id": "MISWRnURblLT",
        "colab_type": "code",
        "colab": {}
      },
      "source": [
        "data_lm.save('tmp_lm.pkl')"
      ],
      "execution_count": 0,
      "outputs": []
    },
    {
      "cell_type": "markdown",
      "metadata": {
        "id": "OovOF0HBbmrZ",
        "colab_type": "text"
      },
      "source": [
        "加载databunch，数据集中所有的文本都用来训练，标签都被忽略。\n",
        "data_lm是TextLMDataBunch类，适于训练语言模型。\n",
        "TextLMDataBunch.load(path, 'tmp_lm', bs=bs)方在新的fastai库中被优化掉了，加载databunch数据可以用load_data()"
      ]
    },
    {
      "cell_type": "code",
      "metadata": {
        "id": "UUQbjzPCdA4c",
        "colab_type": "code",
        "outputId": "9122189b-2897-4eb6-8f1d-38ede55c49a3",
        "colab": {
          "base_uri": "https://localhost:8080/",
          "height": 374
        }
      },
      "source": [
        "data_lm = load_data(path,'tmp_lm.pkl',bs = bs)\n",
        "data_lm.show_batch()"
      ],
      "execution_count": 0,
      "outputs": [
        {
          "output_type": "display_data",
          "data": {
            "text/html": [
              "<table border=\"1\" class=\"dataframe\">\n",
              "  <thead>\n",
              "    <tr style=\"text-align: right;\">\n",
              "      <th>idx</th>\n",
              "      <th>text</th>\n",
              "    </tr>\n",
              "  </thead>\n",
              "  <tbody>\n",
              "    <tr>\n",
              "      <td>0</td>\n",
              "      <td>\" was the house from xxmaj fantasy xxmaj island ( and a million other movies and xxup tv shows ; the place is located in the xxup l.a. area ) . i fully expected xxmaj mr xxmaj roarke and xxmaj tattoo to come out and greet the visitors . xxmaj if xxmaj tattoo had gotten eaten by the snake , i might have given this movie a 2 , but</td>\n",
              "    </tr>\n",
              "    <tr>\n",
              "      <td>1</td>\n",
              "      <td>xxmaj club \" all over again , but i was mistaken ) . xxmaj too bad . \" xxmaj nature of the xxmaj beast \" could have been something else ... instead of nothing else . xxbos xxmaj this is one of the most boring films i 've ever seen . xxmaj the three main cast members just did n't seem to click well . xxmaj giovanni xxmaj ribisi 's</td>\n",
              "    </tr>\n",
              "    <tr>\n",
              "      <td>2</td>\n",
              "      <td>n't believe exists , with dialog , plotting , and direction so ineptly handled that xxmaj uncle xxmaj ned 's xxmaj xxunk xxmaj cavern home video looks like an xxup imax experience . xxmaj since it 's a xxmaj troma flick , there 's plenty of gross - out gore on tap , but its even sillier than usual . \\n \\n  xxmaj most of the production money seems</td>\n",
              "    </tr>\n",
              "    <tr>\n",
              "      <td>3</td>\n",
              "      <td>. \\n \\n  xxmaj the scripting is awful , just awful , with no characterisation at all . xxmaj the performances suffer as a result , you can see the likes of xxmaj hardwicke and xxmaj andrews writhing in an agony of embarrassment as they deliver the most ridiculous shallow trite codswallop lines . xxmaj the writers seem to feel the need to explain almost everything in a dreadful</td>\n",
              "    </tr>\n",
              "    <tr>\n",
              "      <td>4</td>\n",
              "      <td>&amp; xxmaj ric xxmaj gibbs , are pedestrian as they come , not much differing from other xxmaj white xxmaj house conspiracy thrillers as in xxup absolute xxup power and xxup murder xxup at 1600 . xxmaj some considerable talents ( xxmaj donald xxmaj sutherland , xxmaj ben xxmaj gazzara and xxmaj stephen xxmaj lang ) try their best on a routine script , but rarely saves it from predictability</td>\n",
              "    </tr>\n",
              "  </tbody>\n",
              "</table>"
            ],
            "text/plain": [
              "<IPython.core.display.HTML object>"
            ]
          },
          "metadata": {
            "tags": []
          }
        }
      ]
    },
    {
      "cell_type": "markdown",
      "metadata": {
        "id": "8TwvwarHd1aH",
        "colab_type": "text"
      },
      "source": [
        "### （2）创建影评语言模型学习器（language_model_learner）并训练\n",
        "创建一个学习器language_model_learner,底层神经网络是RNN循环神经网络。\n",
        "\n",
        "\n",
        "1.   data_lm为存储IMDB语言模型的databunch\n",
        "2.   pretrained_model=URLs.WT103指要用到的预处理模型，fastai在执行语句的过程中会把这个模型下载下来。\n",
        "3.   drop_mult=0.3设置神经元dropput（随机失活）的比率，正则化项用来防止过拟合，减少正则化参数可以防止模型出现欠拟合。dropout的设置也是用来防止过拟合，dropout比例减小也会防止模型出现欠拟合。\n",
        "\n",
        "\n",
        "---\n",
        "\n",
        "\n",
        "创建语言模型时候用pretrained_model=URLs.WT103会报错：“AttributeError: type object 'URLs' has no attribute 'WT103'”\n",
        "在这里改成“arch=AWD_LSTM”。\n",
        "参见文档：[Fine-tuning-a-language-model](https://docs.fast.ai/text.html#Fine-tuning-a-language-model)\n"
      ]
    },
    {
      "cell_type": "code",
      "metadata": {
        "id": "qM_TNBpmdzlt",
        "colab_type": "code",
        "colab": {}
      },
      "source": [
        "learn = language_model_learner(data_lm,arch = AWD_LSTM, drop_mult=0.3)"
      ],
      "execution_count": 0,
      "outputs": []
    },
    {
      "cell_type": "markdown",
      "metadata": {
        "id": "QjIt3drQiqdg",
        "colab_type": "text"
      },
      "source": [
        "创建学习器后可用lr_find()找最好的学习率区间,lr_find()是learner类的一个方法,（原型：lr_find(learn:Learner, start_lr:Floats=1e-07, end_lr:Floats=10, num_it:int=100, stop_div:bool=True, wd:float=None)）学习器会模拟训练默认100次，找到最优的学习率。"
      ]
    },
    {
      "cell_type": "code",
      "metadata": {
        "id": "8TLNjo-5fWLi",
        "colab_type": "code",
        "outputId": "41f8a885-a989-4d5e-da94-58eac312e2e8",
        "colab": {
          "base_uri": "https://localhost:8080/",
          "height": 34
        }
      },
      "source": [
        "learn.lr_find()"
      ],
      "execution_count": 0,
      "outputs": [
        {
          "output_type": "display_data",
          "data": {
            "text/html": [
              ""
            ],
            "text/plain": [
              "<IPython.core.display.HTML object>"
            ]
          },
          "metadata": {
            "tags": []
          }
        },
        {
          "output_type": "stream",
          "text": [
            "LR Finder is complete, type {learner_name}.recorder.plot() to see the graph.\n"
          ],
          "name": "stdout"
        }
      ]
    },
    {
      "cell_type": "markdown",
      "metadata": {
        "id": "clB6vjkSYIa3",
        "colab_type": "text"
      },
      "source": [
        "绘制loss随着learningrate改变的图像，寻找loss最快下降的区间\n",
        "。learn.recorder.plot(self, skip_start:int=10, skip_end:int=5, suggestion:bool=False, return_fig:bool=None,**kwargs)->Optional[plt.Figure][skip_start，skip_end]表示绘图时lr与loss数组的取值区间。当skip_end>0时函数中取loss[skip_start,-skip_end]和lr[skip_start,-skip_end]来绘图，当skip_end<0时函数中取loss[skip_start:]和lr[skip_start:]。\n",
        "调整skip_end参数可以比较结果，skip_start取默认值，skip_end越小时绘制点越少，函数图像就显得更平滑。"
      ]
    },
    {
      "cell_type": "code",
      "metadata": {
        "id": "DFhC0ryxXfFS",
        "colab_type": "code",
        "outputId": "28c461a7-5c7f-4faa-bc53-ff2b491bcabb",
        "colab": {
          "base_uri": "https://localhost:8080/",
          "height": 283
        }
      },
      "source": [
        "learn.recorder.plot(skip_end=15)"
      ],
      "execution_count": 0,
      "outputs": [
        {
          "output_type": "display_data",
          "data": {
            "image/png": "[encoded data removed]",
            "text/plain": [
              "<Figure size 432x288 with 1 Axes>"
            ]
          },
          "metadata": {
            "tags": []
          }
        }
      ]
    },
    {
      "cell_type": "code",
      "metadata": {
        "id": "BvWC2A2GAo7f",
        "colab_type": "code",
        "outputId": "2231a6aa-7bcd-45fb-bbce-b54ccee83f2b",
        "colab": {
          "base_uri": "https://localhost:8080/",
          "height": 283
        }
      },
      "source": [
        "#测试\n",
        "learn.recorder.plot(skip_end=5)"
      ],
      "execution_count": 0,
      "outputs": [
        {
          "output_type": "display_data",
          "data": {
            "image/png": "[encoded data removed]",
            "text/plain": [
              "<Figure size 432x288 with 1 Axes>"
            ]
          },
          "metadata": {
            "tags": []
          }
        }
      ]
    },
    {
      "cell_type": "markdown",
      "metadata": {
        "id": "Ws0r1s_APh20",
        "colab_type": "text"
      },
      "source": [
        "fit_one_cycle(1,1e-2,moms=(0.8,0.7))1表示更新模型时的迭代次数（1个epoch），1e-2为最大学习率，moms为动量。这里只“微调”了模型的最后几层全连接层，前面的模型权重是“frozen”状态。\n"
      ]
    },
    {
      "cell_type": "code",
      "metadata": {
        "id": "xW2JiTQsXdSq",
        "colab_type": "code",
        "outputId": "4a055fc3-de30-4bb3-f862-f3d7267fcab5",
        "colab": {
          "base_uri": "https://localhost:8080/",
          "height": 80
        }
      },
      "source": [
        "learn.fit_one_cycle(1,1e-2,moms=(0.8,0.7))"
      ],
      "execution_count": 0,
      "outputs": [
        {
          "output_type": "display_data",
          "data": {
            "text/html": [
              "<table border=\"1\" class=\"dataframe\">\n",
              "  <thead>\n",
              "    <tr style=\"text-align: left;\">\n",
              "      <th>epoch</th>\n",
              "      <th>train_loss</th>\n",
              "      <th>valid_loss</th>\n",
              "      <th>accuracy</th>\n",
              "      <th>time</th>\n",
              "    </tr>\n",
              "  </thead>\n",
              "  <tbody>\n",
              "    <tr>\n",
              "      <td>0</td>\n",
              "      <td>4.159715</td>\n",
              "      <td>4.004369</td>\n",
              "      <td>0.295362</td>\n",
              "      <td>41:05</td>\n",
              "    </tr>\n",
              "  </tbody>\n",
              "</table>"
            ],
            "text/plain": [
              "<IPython.core.display.HTML object>"
            ]
          },
          "metadata": {
            "tags": []
          }
        }
      ]
    },
    {
      "cell_type": "markdown",
      "metadata": {
        "id": "RRKOPkInkh0Q",
        "colab_type": "text"
      },
      "source": [
        "unfreeze()使得所有层的权重都可被更新。进行更多次训练（3个epoch）。Jeremy在课程中用的10个epoch，时间会比较长。"
      ]
    },
    {
      "cell_type": "code",
      "metadata": {
        "id": "x88iGqktkYKQ",
        "colab_type": "code",
        "outputId": "496d54dd-0207-4cc7-eba9-79584f980984",
        "colab": {
          "base_uri": "https://localhost:8080/",
          "height": 142
        }
      },
      "source": [
        "learn.unfreeze()\n",
        "learn.fit_one_cycle(3, 1e-3, moms=(0.8,0.7))"
      ],
      "execution_count": 0,
      "outputs": [
        {
          "output_type": "display_data",
          "data": {
            "text/html": [
              "<table border=\"1\" class=\"dataframe\">\n",
              "  <thead>\n",
              "    <tr style=\"text-align: left;\">\n",
              "      <th>epoch</th>\n",
              "      <th>train_loss</th>\n",
              "      <th>valid_loss</th>\n",
              "      <th>accuracy</th>\n",
              "      <th>time</th>\n",
              "    </tr>\n",
              "  </thead>\n",
              "  <tbody>\n",
              "    <tr>\n",
              "      <td>0</td>\n",
              "      <td>3.854703</td>\n",
              "      <td>3.835063</td>\n",
              "      <td>0.314388</td>\n",
              "      <td>46:16</td>\n",
              "    </tr>\n",
              "    <tr>\n",
              "      <td>1</td>\n",
              "      <td>3.713718</td>\n",
              "      <td>3.735543</td>\n",
              "      <td>0.327164</td>\n",
              "      <td>46:20</td>\n",
              "    </tr>\n",
              "    <tr>\n",
              "      <td>2</td>\n",
              "      <td>3.553257</td>\n",
              "      <td>3.704727</td>\n",
              "      <td>0.331461</td>\n",
              "      <td>46:21</td>\n",
              "    </tr>\n",
              "  </tbody>\n",
              "</table>"
            ],
            "text/plain": [
              "<IPython.core.display.HTML object>"
            ]
          },
          "metadata": {
            "tags": []
          }
        }
      ]
    },
    {
      "cell_type": "markdown",
      "metadata": {
        "id": "mQPvxmb55FZR",
        "colab_type": "text"
      },
      "source": [
        "准确率超过0.3效果说明语言模型已经训练得比较好了。"
      ]
    },
    {
      "cell_type": "markdown",
      "metadata": {
        "id": "Xed7NMxwxoH3",
        "colab_type": "text"
      },
      "source": [
        "## 2、用影评语言模型做预测"
      ]
    },
    {
      "cell_type": "markdown",
      "metadata": {
        "id": "gYoHsoakx5t5",
        "colab_type": "text"
      },
      "source": [
        "给一个句子的前半部分，这个语言模型会把它补全。predict()将单词根据概率分布随机取出，temperature默认值是1，降低temperature值会降低文本随机性。min_p设置了输出单词时考虑的概率最小值。"
      ]
    },
    {
      "cell_type": "code",
      "metadata": {
        "id": "WPyb8qtOxrfB",
        "colab_type": "code",
        "outputId": "e73a2a7e-367d-4391-db3f-a02d8c67dce2",
        "colab": {
          "base_uri": "https://localhost:8080/",
          "height": 54
        }
      },
      "source": [
        "learn.predict('I like this movie because',100,temperature=1.1,min_p=0.001)"
      ],
      "execution_count": 0,
      "outputs": [
        {
          "output_type": "execute_result",
          "data": {
            "text/plain": [
              "'I like this movie because it \\'s about the perfect old fashioned book of the cinema , that could have been a lot more engaging . It will make a lot of sense without getting older and at last . Do n\\'t miss this one . \\n \\n  When the \" first French class kid \" spoke to everyone , i did n\\'t think at the time . \\n \\n  i will give credit to their writers for changing the plot into the movie to fill it up , and to create the story \\'s point of view . What made it'"
            ]
          },
          "metadata": {
            "tags": []
          },
          "execution_count": 25
        }
      ]
    },
    {
      "cell_type": "markdown",
      "metadata": {
        "id": "lNrEiyYmys82",
        "colab_type": "text"
      },
      "source": [
        "后续影评情绪分类可以把影评语言模型作为预训练模型，因此我们保存这个模型的encoder部分。之所以不全部保存，是因为模型的后半部分是用来预测句子中下一个单词的，对理解影评语句没有用处。模型中有关理解语句的部分被称为“encoder”，因此用save_encoder()函数只保存encoder部分。"
      ]
    },
    {
      "cell_type": "code",
      "metadata": {
        "id": "qd1ZB9dKzkoV",
        "colab_type": "code",
        "colab": {}
      },
      "source": [
        "learn.save_encoder('fine_tuned_enc')"
      ],
      "execution_count": 0,
      "outputs": []
    },
    {
      "cell_type": "markdown",
      "metadata": {
        "id": "u-LT0Yts0oMa",
        "colab_type": "text"
      },
      "source": [
        "## 3、建立影评情绪分类器"
      ]
    },
    {
      "cell_type": "markdown",
      "metadata": {
        "id": "D5mLARnw0vip",
        "colab_type": "text"
      },
      "source": [
        "### （1）创建一个DataBunch并保存\n",
        "\n",
        "\n",
        "1.vocab=data_lm.vocab：   \n",
        "之前我们读取了train、text文件夹中的所有文本数据创建影评数据集databunch，并用来创建了languagemodel。在创建分类器时，我们要用之前languagemodel的encoder作为预训练模型，因此创建分类器时要用同一套分词和数字化的规则。如果在语言模型中10表示‘the’，在分类器中10也一定要表示‘the’，否则预训练模型的输出就没有了意义。\n",
        "\n",
        "2.split_by_folder(valid='test')根据文件夹划分训练集和验证集。因为path目录下只有train文件夹和test文件夹，就不用.filter_by_folder(include=['train', 'test'])了。\n",
        "\n",
        "3.label_from_folder(classes=['neg', 'pos'])\n",
        "用'neg','pos'给数据加标签。\n",
        "\n",
        "4.filter_missing_y()如果发现有文本label不是neg或者pos，会将文本删除\n",
        "\n",
        "5.如果在训练过程中发现GPU资源用完，可以将bs值降低。\n",
        "\n",
        "直接运行课程中的代码会报错：'bool' object is not callable\n",
        "保存databunch的时候记得加pkl文件后缀，否则会报错。\n"
      ]
    },
    {
      "cell_type": "code",
      "metadata": {
        "id": "OyUeWyJl0sap",
        "colab_type": "code",
        "colab": {}
      },
      "source": [
        "textlist = TextList.from_folder(path, vocab=data_lm.vocab)\n",
        "textlist_byfolder = textlist.split_by_folder(valid='test')\n",
        "testlist_byfolder_label = textlist_byfolder.label_from_folder(classes=['neg','pos'])#train,test文件夹下有neg文件夹和pos文件夹\n",
        "# data_clas_folder = (TextList.from_folder(path, vocab=data_lm.vocab)\n",
        "#              #grab all the text files in path\n",
        "#              .split_by_folder(valid='test')\n",
        "#              #split by train and valid folder (that only keeps 'train' and 'test' so no need to filter)\n",
        "#              .label_from_folder(classes=['neg', 'pos'])\n",
        "#              #remove docs with labels not in above list (i.e. 'unsup')\n",
        "testlist_byfolder_label.filter_missing_y = True\n",
        "data_clas = testlist_byfolder_label.databunch(bs=bs)\n",
        "             #label them all with their folders\n",
        "data_clas.save('tmp_clas.pkl')"
      ],
      "execution_count": 0,
      "outputs": []
    },
    {
      "cell_type": "markdown",
      "metadata": {
        "id": "Eh4gzGcNRSW7",
        "colab_type": "text"
      },
      "source": [
        "### （2）加载DataBunch\n",
        "\n",
        "path为存储位置，‘tmp’为dataBunch存储名称，bs为batchsize。在创建dataBunch时传递的参数比如（bs=50）没有保存，因此需要在加载的时候重新传入参数，否则对应参数会使用默认值。\n",
        "此处用load_data()函数来加载。"
      ]
    },
    {
      "cell_type": "code",
      "metadata": {
        "id": "6YIksCxoSLmk",
        "colab_type": "code",
        "outputId": "90adbff6-b0f7-4087-efdf-ce455e6024d1",
        "colab": {
          "base_uri": "https://localhost:8080/",
          "height": 391
        }
      },
      "source": [
        "data_clas=load_data(path,'tmp_clas.pkl',bs=bs)\n",
        "data_clas.show_batch()"
      ],
      "execution_count": 0,
      "outputs": [
        {
          "output_type": "display_data",
          "data": {
            "text/html": [
              "<table border=\"1\" class=\"dataframe\">\n",
              "  <thead>\n",
              "    <tr style=\"text-align: right;\">\n",
              "      <th>text</th>\n",
              "      <th>target</th>\n",
              "    </tr>\n",
              "  </thead>\n",
              "  <tbody>\n",
              "    <tr>\n",
              "      <td>xxbos xxmaj match 1 : xxmaj tag xxmaj team xxmaj table xxmaj match xxmaj bubba xxmaj ray and xxmaj spike xxmaj dudley vs xxmaj eddie xxmaj guerrero and xxmaj chris xxmaj benoit xxmaj bubba xxmaj ray and xxmaj spike xxmaj dudley started things off with a xxmaj tag xxmaj team xxmaj table xxmaj match against xxmaj eddie xxmaj guerrero and xxmaj chris xxmaj benoit . xxmaj according to the rules</td>\n",
              "      <td>pos</td>\n",
              "    </tr>\n",
              "    <tr>\n",
              "      <td>xxbos xxmaj by now you 've probably heard a bit about the new xxmaj disney dub of xxmaj miyazaki 's classic film , xxmaj laputa : xxmaj castle xxmaj in xxmaj the xxmaj sky . xxmaj during late summer of 1998 , xxmaj disney released \" xxmaj kiki 's xxmaj delivery xxmaj service \" on video which included a preview of the xxmaj laputa dub saying it was due out</td>\n",
              "      <td>pos</td>\n",
              "    </tr>\n",
              "    <tr>\n",
              "      <td>xxbos xxmaj some have praised _ xxunk _ as a xxmaj disney adventure for adults . i do n't think so -- at least not for thinking adults . \\n \\n  xxmaj this script suggests a beginning as a live - action movie , that struck someone as the type of crap you can not sell to adults anymore . xxmaj the \" crack staff \" of many older</td>\n",
              "      <td>neg</td>\n",
              "    </tr>\n",
              "    <tr>\n",
              "      <td>xxbos xxmaj waitress : xxmaj honey , here 's them eggs you ordered . xxmaj honey , like bee , get it ? xxmaj that 's called pointless foreshadowing . \\n \\n  xxmaj edward xxmaj basket : xxmaj huh ? ( xxmaj on the road ) xxmaj basket : xxmaj here 's your doll back , little girl . xxmaj you really should n't be so careless with your</td>\n",
              "      <td>neg</td>\n",
              "    </tr>\n",
              "    <tr>\n",
              "      <td>xxbos xxmaj the vigilante has long held a fascination for audiences , inasmuch as it evokes a sense of swift , sure justice ; good triumphs over evil and the bad guy gets his deserts . xxmaj it is , in fact , one of the things that has made the character of xxmaj dirty xxmaj harry xxmaj callahan ( as played by xxmaj clint xxmaj eastwood ) so popular</td>\n",
              "      <td>pos</td>\n",
              "    </tr>\n",
              "  </tbody>\n",
              "</table>"
            ],
            "text/plain": [
              "<IPython.core.display.HTML object>"
            ]
          },
          "metadata": {
            "tags": []
          }
        }
      ]
    },
    {
      "cell_type": "markdown",
      "metadata": {
        "id": "MH6Dw-aASojs",
        "colab_type": "text"
      },
      "source": [
        "### （3）创建text_classifier_learner分类器并训练"
      ]
    },
    {
      "cell_type": "markdown",
      "metadata": {
        "id": "hhYKoMFBT5Tx",
        "colab_type": "text"
      },
      "source": [
        "\n",
        "\n",
        "\n",
        "1.   text_classifier_learner()创建分类器，传入data_clas，如果过拟合提高drop_mult的值，如果欠拟合降低drop_mult的值。fastai库更新后，需要传arch参数，可设置为AWD_LSTM，会自动从URLs.WT103_1中加载预训练权重。 \n",
        "2.   加载语言模型的encoder\n",
        "3.learn.freeze()将除最后一组层外的所有层都设置为‘untrainable’，即训练时不更新权重。\n"
      ]
    },
    {
      "cell_type": "code",
      "metadata": {
        "id": "6OF1pVaESoH1",
        "colab_type": "code",
        "colab": {}
      },
      "source": [
        "learn=text_classifier_learner(data_clas,arch=AWD_LSTM,drop_mult=0.5)\n",
        "learn.load_encoder('fine_tuned_enc')\n",
        "learn.freeze()#learn是一个RNNLearner\n"
      ],
      "execution_count": 0,
      "outputs": []
    },
    {
      "cell_type": "markdown",
      "metadata": {
        "id": "Q1T6elQeQAGw",
        "colab_type": "text"
      },
      "source": [
        " \n",
        "\n",
        "4.   lr_find()并绘图找到最佳学习率\n",
        "5.   先训练最后一组层\n",
        "语言模型训练起来可能要花费比较长的时间，但是某一领域只需要做一个语言模型并保存，就能在语言模型的基础上很快训练出很好的分类器或其"
      ]
    },
    {
      "cell_type": "code",
      "metadata": {
        "id": "9JiG0ob7QFLW",
        "colab_type": "code",
        "outputId": "5d9dba93-f533-473e-b6a9-ef3164b6dddd",
        "colab": {
          "base_uri": "https://localhost:8080/",
          "height": 363
        }
      },
      "source": [
        "learn.lr_find()\n",
        "learn.recorder.plot()\n",
        "learn.fit_one_cycle(1,2e-2,moms=(0.8,0.7))\n",
        "learn.save('first')"
      ],
      "execution_count": 0,
      "outputs": [
        {
          "output_type": "display_data",
          "data": {
            "text/html": [
              ""
            ],
            "text/plain": [
              "<IPython.core.display.HTML object>"
            ]
          },
          "metadata": {
            "tags": []
          }
        },
        {
          "output_type": "stream",
          "text": [
            "LR Finder is complete, type {learner_name}.recorder.plot() to see the graph.\n"
          ],
          "name": "stdout"
        },
        {
          "output_type": "display_data",
          "data": {
            "text/html": [
              "<table border=\"1\" class=\"dataframe\">\n",
              "  <thead>\n",
              "    <tr style=\"text-align: left;\">\n",
              "      <th>epoch</th>\n",
              "      <th>train_loss</th>\n",
              "      <th>valid_loss</th>\n",
              "      <th>accuracy</th>\n",
              "      <th>time</th>\n",
              "    </tr>\n",
              "  </thead>\n",
              "  <tbody>\n",
              "    <tr>\n",
              "      <td>0</td>\n",
              "      <td>0.283202</td>\n",
              "      <td>0.217805</td>\n",
              "      <td>0.914720</td>\n",
              "      <td>10:13</td>\n",
              "    </tr>\n",
              "  </tbody>\n",
              "</table>"
            ],
            "text/plain": [
              "<IPython.core.display.HTML object>"
            ]
          },
          "metadata": {
            "tags": []
          }
        },
        {
          "output_type": "display_data",
          "data": {
            "image/png": "[encoded data removed]",
            "text/plain": [
              "<Figure size 432x288 with 1 Axes>"
            ]
          },
          "metadata": {
            "tags": []
          }
        }
      ]
    },
    {
      "cell_type": "markdown",
      "metadata": {
        "id": "e6ctS2-yRD1a",
        "colab_type": "text"
      },
      "source": [
        "\n",
        "\n",
        "6.   unfreeze让更多层参与训练。这里用freezeto(-2)仅“解冻”最后两层。在文本分类上每次只“解冻”一层比解冻之前的所有层效果要好。\n",
        "7.   做一次训练。为什么这里的最小学习率要是1e-3除以2.6的四次方？max_lr参数设置为slice使得模型每一组层的学习速率不同，这种设置被称为“discriminative learning rates”。Jeremy用随机森林来预测超参对文本分类器准确度的影响，发现后一组层的学习率最好是前一组层的2.6倍。\n"
      ]
    },
    {
      "cell_type": "code",
      "metadata": {
        "id": "RTUU8OzSRlBU",
        "colab_type": "code",
        "outputId": "5c191b92-c5c7-40c2-e10f-3e4ea213ea33",
        "colab": {
          "base_uri": "https://localhost:8080/",
          "height": 80
        }
      },
      "source": [
        "learn.load('first')\n",
        "learn.freeze_to(-2)\n",
        "learn.fit_one_cycle(1,slice(1e-2/(2.6**4),1e-2),moms=(0.8,0.7))\n",
        "learn.save('second')"
      ],
      "execution_count": 0,
      "outputs": [
        {
          "output_type": "display_data",
          "data": {
            "text/html": [
              "<table border=\"1\" class=\"dataframe\">\n",
              "  <thead>\n",
              "    <tr style=\"text-align: left;\">\n",
              "      <th>epoch</th>\n",
              "      <th>train_loss</th>\n",
              "      <th>valid_loss</th>\n",
              "      <th>accuracy</th>\n",
              "      <th>time</th>\n",
              "    </tr>\n",
              "  </thead>\n",
              "  <tbody>\n",
              "    <tr>\n",
              "      <td>0</td>\n",
              "      <td>0.249769</td>\n",
              "      <td>0.181265</td>\n",
              "      <td>0.931040</td>\n",
              "      <td>12:57</td>\n",
              "    </tr>\n",
              "  </tbody>\n",
              "</table>"
            ],
            "text/plain": [
              "<IPython.core.display.HTML object>"
            ]
          },
          "metadata": {
            "tags": []
          }
        }
      ]
    },
    {
      "cell_type": "code",
      "metadata": {
        "id": "DZOoAWgQxOyw",
        "colab_type": "code",
        "outputId": "d0b4b581-437e-4c4e-af7b-7320a013a5aa",
        "colab": {
          "base_uri": "https://localhost:8080/",
          "height": 663
        }
      },
      "source": [
        "learn.summary()\n",
        "learn.model"
      ],
      "execution_count": 0,
      "outputs": [
        {
          "output_type": "execute_result",
          "data": {
            "text/plain": [
              "SequentialRNN(\n",
              "  (0): MultiBatchEncoder(\n",
              "    (module): AWD_LSTM(\n",
              "      (encoder): Embedding(49816, 400, padding_idx=1)\n",
              "      (encoder_dp): EmbeddingDropout(\n",
              "        (emb): Embedding(49816, 400, padding_idx=1)\n",
              "      )\n",
              "      (rnns): ModuleList(\n",
              "        (0): WeightDropout(\n",
              "          (module): LSTM(400, 1152, batch_first=True)\n",
              "        )\n",
              "        (1): WeightDropout(\n",
              "          (module): LSTM(1152, 1152, batch_first=True)\n",
              "        )\n",
              "        (2): WeightDropout(\n",
              "          (module): LSTM(1152, 400, batch_first=True)\n",
              "        )\n",
              "      )\n",
              "      (input_dp): RNNDropout()\n",
              "      (hidden_dps): ModuleList(\n",
              "        (0): RNNDropout()\n",
              "        (1): RNNDropout()\n",
              "        (2): RNNDropout()\n",
              "      )\n",
              "    )\n",
              "  )\n",
              "  (1): PoolingLinearClassifier(\n",
              "    (layers): Sequential(\n",
              "      (0): BatchNorm1d(1200, eps=1e-05, momentum=0.1, affine=True, track_running_stats=True)\n",
              "      (1): Dropout(p=0.2, inplace=False)\n",
              "      (2): Linear(in_features=1200, out_features=50, bias=True)\n",
              "      (3): ReLU(inplace=True)\n",
              "      (4): BatchNorm1d(50, eps=1e-05, momentum=0.1, affine=True, track_running_stats=True)\n",
              "      (5): Dropout(p=0.1, inplace=False)\n",
              "      (6): Linear(in_features=50, out_features=2, bias=True)\n",
              "    )\n",
              "  )\n",
              ")"
            ]
          },
          "metadata": {
            "tags": []
          },
          "execution_count": 46
        }
      ]
    },
    {
      "cell_type": "markdown",
      "metadata": {
        "id": "mH5DirRtSoBa",
        "colab_type": "text"
      },
      "source": [
        "\n",
        "8.   第二次训练结果准确率已经达到了0.93，比第一次有所提高，再往前unfreeze一层并进行训练(准确率0.94)。\n"
      ]
    },
    {
      "cell_type": "code",
      "metadata": {
        "id": "BSFBVbVLSxvF",
        "colab_type": "code",
        "outputId": "1ed3f106-cb67-4dae-ee76-79f57c520811",
        "colab": {
          "base_uri": "https://localhost:8080/",
          "height": 80
        }
      },
      "source": [
        "learn.load('second')\n",
        "learn.freeze_to(-3)\n",
        "learn.fit_one_cycle(1,slice(5e-3/(2.6**4),5e-3),moms=(0.8,0.7))\n",
        "learn.save('third')"
      ],
      "execution_count": 0,
      "outputs": [
        {
          "output_type": "display_data",
          "data": {
            "text/html": [
              "<table border=\"1\" class=\"dataframe\">\n",
              "  <thead>\n",
              "    <tr style=\"text-align: left;\">\n",
              "      <th>epoch</th>\n",
              "      <th>train_loss</th>\n",
              "      <th>valid_loss</th>\n",
              "      <th>accuracy</th>\n",
              "      <th>time</th>\n",
              "    </tr>\n",
              "  </thead>\n",
              "  <tbody>\n",
              "    <tr>\n",
              "      <td>0</td>\n",
              "      <td>0.203254</td>\n",
              "      <td>0.152514</td>\n",
              "      <td>0.942960</td>\n",
              "      <td>15:56</td>\n",
              "    </tr>\n",
              "  </tbody>\n",
              "</table>"
            ],
            "text/plain": [
              "<IPython.core.display.HTML object>"
            ]
          },
          "metadata": {
            "tags": []
          }
        }
      ]
    },
    {
      "cell_type": "code",
      "metadata": {
        "id": "GdZhVjFZ2Vtm",
        "colab_type": "code",
        "outputId": "ce14f5e1-c909-4328-d971-00c666069434",
        "colab": {
          "base_uri": "https://localhost:8080/",
          "height": 595
        }
      },
      "source": [
        "learn.summary()"
      ],
      "execution_count": 0,
      "outputs": [
        {
          "output_type": "execute_result",
          "data": {
            "text/plain": [
              "SequentialRNN\n",
              "======================================================================\n",
              "Layer (type)         Output Shape         Param #    Trainable \n",
              "======================================================================\n",
              "RNNDropout           [61, 400]            0          False     \n",
              "______________________________________________________________________\n",
              "RNNDropout           [61, 1152]           0          False     \n",
              "______________________________________________________________________\n",
              "RNNDropout           [61, 1152]           0          False     \n",
              "______________________________________________________________________\n",
              "BatchNorm1d          [1200]               2,400      True      \n",
              "______________________________________________________________________\n",
              "Dropout              [1200]               0          False     \n",
              "______________________________________________________________________\n",
              "Linear               [50]                 60,050     True      \n",
              "______________________________________________________________________\n",
              "ReLU                 [50]                 0          False     \n",
              "______________________________________________________________________\n",
              "BatchNorm1d          [50]                 100        True      \n",
              "______________________________________________________________________\n",
              "Dropout              [50]                 0          False     \n",
              "______________________________________________________________________\n",
              "Linear               [2]                  102        True      \n",
              "______________________________________________________________________\n",
              "\n",
              "Total params: 62,652\n",
              "Total trainable params: 62,652\n",
              "Total non-trainable params: 0\n",
              "Optimized with 'torch.optim.adam.Adam', betas=(0.9, 0.99)\n",
              "Using true weight decay as discussed in https://www.fast.ai/2018/07/02/adam-weight-decay/ \n",
              "Loss function : FlattenedLoss\n",
              "======================================================================\n",
              "Callbacks functions applied \n",
              "    RNNTrainer"
            ]
          },
          "metadata": {
            "tags": []
          },
          "execution_count": 50
        }
      ]
    },
    {
      "cell_type": "markdown",
      "metadata": {
        "id": "IA-tUUjDTZo2",
        "colab_type": "text"
      },
      "source": [
        "\n",
        "\n",
        "9.   unfreeze所有层并训练(训练RNN网络时，稍微降低momentum值有利于训练）\n",
        "\n"
      ]
    },
    {
      "cell_type": "code",
      "metadata": {
        "id": "lioacZQ_Tcdt",
        "colab_type": "code",
        "outputId": "9ee9c517-8dbe-4e4b-be1b-9167ba387571",
        "colab": {
          "base_uri": "https://localhost:8080/",
          "height": 111
        }
      },
      "source": [
        "learn.load('third')\n",
        "learn.unfreeze()\n",
        "learn.fit_one_cycle(2, slice(1e-3/(2.6**4),1e-3), moms=(0.8,0.7))"
      ],
      "execution_count": 0,
      "outputs": [
        {
          "output_type": "display_data",
          "data": {
            "text/html": [
              "<table border=\"1\" class=\"dataframe\">\n",
              "  <thead>\n",
              "    <tr style=\"text-align: left;\">\n",
              "      <th>epoch</th>\n",
              "      <th>train_loss</th>\n",
              "      <th>valid_loss</th>\n",
              "      <th>accuracy</th>\n",
              "      <th>time</th>\n",
              "    </tr>\n",
              "  </thead>\n",
              "  <tbody>\n",
              "    <tr>\n",
              "      <td>0</td>\n",
              "      <td>0.173503</td>\n",
              "      <td>0.150027</td>\n",
              "      <td>0.942920</td>\n",
              "      <td>21:10</td>\n",
              "    </tr>\n",
              "    <tr>\n",
              "      <td>1</td>\n",
              "      <td>0.160777</td>\n",
              "      <td>0.149272</td>\n",
              "      <td>0.943760</td>\n",
              "      <td>19:12</td>\n",
              "    </tr>\n",
              "  </tbody>\n",
              "</table>"
            ],
            "text/plain": [
              "<IPython.core.display.HTML object>"
            ]
          },
          "metadata": {
            "tags": []
          }
        }
      ]
    },
    {
      "cell_type": "code",
      "metadata": {
        "id": "Am5MuJPuBCZL",
        "colab_type": "code",
        "colab": {}
      },
      "source": [
        "learn.save('final')"
      ],
      "execution_count": 0,
      "outputs": []
    }
  ]
}
{
  "nbformat": 4,
  "nbformat_minor": 0,
  "metadata": {
    "colab": {
      "name": "lesson4-2-tabular data表格数据处理.ipynb",
      "provenance": [],
      "collapsed_sections": []
    },
    "kernelspec": {
      "name": "python3",
      "display_name": "Python 3"
    },
    "accelerator": "GPU"
  },
  "cells": [
    {
      "cell_type": "markdown",
      "metadata": {
        "id": "WRmv_5-X2_ar",
        "colab_type": "text"
      },
      "source": [
        "## 1、引入fastai库文件，创建dataframe"
      ]
    },
    {
      "cell_type": "code",
      "metadata": {
        "id": "OP9QaZwHyVGP",
        "colab_type": "code",
        "colab": {}
      },
      "source": [
        "from fastai import *\n",
        "from fastai.tabular import *"
      ],
      "execution_count": 0,
      "outputs": []
    },
    {
      "cell_type": "markdown",
      "metadata": {
        "id": "MvPfmehd3six",
        "colab_type": "text"
      },
      "source": [
        "python中表格数据的标准格式是Pandas.DataFrame格式，可以通过pd.read_csv()方法从csv中获取，存储在关系型数据库、hadoop、spark中的数据也能很容易用pandas转化为dataframe类型。"
      ]
    },
    {
      "cell_type": "code",
      "metadata": {
        "id": "dxlqxcm83MB4",
        "colab_type": "code",
        "colab": {}
      },
      "source": [
        "path = untar_data(URLs.ADULT_SAMPLE)\n",
        "df = pd.read_csv(path/'adult.csv')"
      ],
      "execution_count": 0,
      "outputs": []
    },
    {
      "cell_type": "code",
      "metadata": {
        "id": "LmDoNM1P5dW6",
        "colab_type": "code",
        "outputId": "147044f9-5b7a-424e-b722-17a1ce203bb6",
        "colab": {
          "base_uri": "https://localhost:8080/",
          "height": 394
        }
      },
      "source": [
        "df.head()"
      ],
      "execution_count": 0,
      "outputs": [
        {
          "output_type": "execute_result",
          "data": {
            "text/html": [
              "<div>\n",
              "<style scoped>\n",
              "    .dataframe tbody tr th:only-of-type {\n",
              "        vertical-align: middle;\n",
              "    }\n",
              "\n",
              "    .dataframe tbody tr th {\n",
              "        vertical-align: top;\n",
              "    }\n",
              "\n",
              "    .dataframe thead th {\n",
              "        text-align: right;\n",
              "    }\n",
              "</style>\n",
              "<table border=\"1\" class=\"dataframe\">\n",
              "  <thead>\n",
              "    <tr style=\"text-align: right;\">\n",
              "      <th></th>\n",
              "      <th>age</th>\n",
              "      <th>workclass</th>\n",
              "      <th>fnlwgt</th>\n",
              "      <th>education</th>\n",
              "      <th>education-num</th>\n",
              "      <th>marital-status</th>\n",
              "      <th>occupation</th>\n",
              "      <th>relationship</th>\n",
              "      <th>race</th>\n",
              "      <th>sex</th>\n",
              "      <th>capital-gain</th>\n",
              "      <th>capital-loss</th>\n",
              "      <th>hours-per-week</th>\n",
              "      <th>native-country</th>\n",
              "      <th>salary</th>\n",
              "    </tr>\n",
              "  </thead>\n",
              "  <tbody>\n",
              "    <tr>\n",
              "      <th>0</th>\n",
              "      <td>49</td>\n",
              "      <td>Private</td>\n",
              "      <td>101320</td>\n",
              "      <td>Assoc-acdm</td>\n",
              "      <td>12.0</td>\n",
              "      <td>Married-civ-spouse</td>\n",
              "      <td>NaN</td>\n",
              "      <td>Wife</td>\n",
              "      <td>White</td>\n",
              "      <td>Female</td>\n",
              "      <td>0</td>\n",
              "      <td>1902</td>\n",
              "      <td>40</td>\n",
              "      <td>United-States</td>\n",
              "      <td>&gt;=50k</td>\n",
              "    </tr>\n",
              "    <tr>\n",
              "      <th>1</th>\n",
              "      <td>44</td>\n",
              "      <td>Private</td>\n",
              "      <td>236746</td>\n",
              "      <td>Masters</td>\n",
              "      <td>14.0</td>\n",
              "      <td>Divorced</td>\n",
              "      <td>Exec-managerial</td>\n",
              "      <td>Not-in-family</td>\n",
              "      <td>White</td>\n",
              "      <td>Male</td>\n",
              "      <td>10520</td>\n",
              "      <td>0</td>\n",
              "      <td>45</td>\n",
              "      <td>United-States</td>\n",
              "      <td>&gt;=50k</td>\n",
              "    </tr>\n",
              "    <tr>\n",
              "      <th>2</th>\n",
              "      <td>38</td>\n",
              "      <td>Private</td>\n",
              "      <td>96185</td>\n",
              "      <td>HS-grad</td>\n",
              "      <td>NaN</td>\n",
              "      <td>Divorced</td>\n",
              "      <td>NaN</td>\n",
              "      <td>Unmarried</td>\n",
              "      <td>Black</td>\n",
              "      <td>Female</td>\n",
              "      <td>0</td>\n",
              "      <td>0</td>\n",
              "      <td>32</td>\n",
              "      <td>United-States</td>\n",
              "      <td>&lt;50k</td>\n",
              "    </tr>\n",
              "    <tr>\n",
              "      <th>3</th>\n",
              "      <td>38</td>\n",
              "      <td>Self-emp-inc</td>\n",
              "      <td>112847</td>\n",
              "      <td>Prof-school</td>\n",
              "      <td>15.0</td>\n",
              "      <td>Married-civ-spouse</td>\n",
              "      <td>Prof-specialty</td>\n",
              "      <td>Husband</td>\n",
              "      <td>Asian-Pac-Islander</td>\n",
              "      <td>Male</td>\n",
              "      <td>0</td>\n",
              "      <td>0</td>\n",
              "      <td>40</td>\n",
              "      <td>United-States</td>\n",
              "      <td>&gt;=50k</td>\n",
              "    </tr>\n",
              "    <tr>\n",
              "      <th>4</th>\n",
              "      <td>42</td>\n",
              "      <td>Self-emp-not-inc</td>\n",
              "      <td>82297</td>\n",
              "      <td>7th-8th</td>\n",
              "      <td>NaN</td>\n",
              "      <td>Married-civ-spouse</td>\n",
              "      <td>Other-service</td>\n",
              "      <td>Wife</td>\n",
              "      <td>Black</td>\n",
              "      <td>Female</td>\n",
              "      <td>0</td>\n",
              "      <td>0</td>\n",
              "      <td>50</td>\n",
              "      <td>United-States</td>\n",
              "      <td>&lt;50k</td>\n",
              "    </tr>\n",
              "  </tbody>\n",
              "</table>\n",
              "</div>"
            ],
            "text/plain": [
              "   age          workclass  fnlwgt  ... hours-per-week  native-country salary\n",
              "0   49            Private  101320  ...             40   United-States  >=50k\n",
              "1   44            Private  236746  ...             45   United-States  >=50k\n",
              "2   38            Private   96185  ...             32   United-States   <50k\n",
              "3   38       Self-emp-inc  112847  ...             40   United-States  >=50k\n",
              "4   42   Self-emp-not-inc   82297  ...             50   United-States   <50k\n",
              "\n",
              "[5 rows x 15 columns]"
            ]
          },
          "metadata": {
            "tags": []
          },
          "execution_count": 7
        }
      ]
    },
    {
      "cell_type": "markdown",
      "metadata": {
        "id": "BTypEV226LiR",
        "colab_type": "text"
      },
      "source": [
        "## 2、创建TabularList \n",
        "1.   cat_names和con_names分别定义类别型变量（categorical variables）和连续型变量（continuous variablesa）。\n",
        "2.   procs将对数据进行预处理。表格数据处理中的processor和计算机视觉中的transformation大致相同，但processor预处理表格数据在最开始进行，并且只进行一次；transformation的目的是数据增强，因此transform每次都不一样并且随机。\n",
        "FillMissing：用中位数取代缺失值，再新建一列说明该数据是否缺失\n",
        "Categorify：把类别型变量转化为pandas中的categories\n",
        "Normalize：数据归一化：连续变量减去均值除以标准差\n",
        "训练集、验证集、测试集的数据预处理方法要相同，因此三种数据集的processors要相同。\n"
      ]
    },
    {
      "cell_type": "code",
      "metadata": {
        "id": "lz1opAUj5o0Y",
        "colab_type": "code",
        "colab": {}
      },
      "source": [
        "dep_var='salary'\n",
        "#类别型变量\n",
        "cat_names=['workclass','education','marital-status','occupation','relationship','race']\n",
        "#连续型变量\n",
        "cont_names = ['age','fnlwgt','education-num']\n",
        "procs=[FillMissing,Categorify,Normalize]"
      ],
      "execution_count": 0,
      "outputs": []
    },
    {
      "cell_type": "markdown",
      "metadata": {
        "id": "5vwC8Zr68H2c",
        "colab_type": "text"
      },
      "source": [
        "df.iloc()通过index提取dataframe中特定的行和列，\n",
        "df.iloc[800:1000]表示取第800-1000行的数据,这些数据将作为测试集。\n"
      ]
    },
    {
      "cell_type": "code",
      "metadata": {
        "id": "ZWxYdUsw7DAY",
        "colab_type": "code",
        "outputId": "7fb572de-1689-46d7-9b94-54d6eb3252ec",
        "colab": {
          "base_uri": "https://localhost:8080/",
          "height": 1000
        }
      },
      "source": [
        "test = TabularList.from_df(df.iloc[800:1000].copy(),path=path,cat_names=cat_names,cont_names=cont_names)\n",
        "test"
      ],
      "execution_count": 0,
      "outputs": [
        {
          "output_type": "execute_result",
          "data": {
            "text/plain": [
              "TabularList (200 items)\n",
              "age                               45\n",
              "workclass                    Private\n",
              "fnlwgt                         96975\n",
              "education               Some-college\n",
              "education-num                    NaN\n",
              "marital-status              Divorced\n",
              "occupation         Handlers-cleaners\n",
              "relationship               Unmarried\n",
              "race                           White\n",
              "sex                           Female\n",
              "capital-gain                       0\n",
              "capital-loss                       0\n",
              "hours-per-week                    40\n",
              "native-country         United-States\n",
              "salary                          <50k\n",
              "Name: 800, dtype: object,age                                46\n",
              "workclass                Self-emp-inc\n",
              "fnlwgt                         192779\n",
              "education                 Prof-school\n",
              "education-num                     NaN\n",
              "marital-status     Married-civ-spouse\n",
              "occupation             Prof-specialty\n",
              "relationship                  Husband\n",
              "race                            White\n",
              "sex                              Male\n",
              "capital-gain                    15024\n",
              "capital-loss                        0\n",
              "hours-per-week                     60\n",
              "native-country          United-States\n",
              "salary                          >=50k\n",
              "Name: 801, dtype: object,age                           36\n",
              "workclass                Private\n",
              "fnlwgt                    376455\n",
              "education              Assoc-voc\n",
              "education-num                NaN\n",
              "marital-status          Divorced\n",
              "occupation                   NaN\n",
              "relationship       Not-in-family\n",
              "race                       White\n",
              "sex                         Male\n",
              "capital-gain                   0\n",
              "capital-loss                   0\n",
              "hours-per-week                38\n",
              "native-country     United-States\n",
              "salary                      <50k\n",
              "Name: 802, dtype: object,age                           25\n",
              "workclass            Federal-gov\n",
              "fnlwgt                     50053\n",
              "education              Bachelors\n",
              "education-num                NaN\n",
              "marital-status     Never-married\n",
              "occupation          Tech-support\n",
              "relationship       Not-in-family\n",
              "race                       White\n",
              "sex                         Male\n",
              "capital-gain                   0\n",
              "capital-loss                   0\n",
              "hours-per-week                45\n",
              "native-country     United-States\n",
              "salary                      <50k\n",
              "Name: 803, dtype: object,age                                37\n",
              "workclass                     Private\n",
              "fnlwgt                         164526\n",
              "education                   Bachelors\n",
              "education-num                     NaN\n",
              "marital-status     Married-civ-spouse\n",
              "occupation                        NaN\n",
              "relationship                  Husband\n",
              "race                            White\n",
              "sex                              Male\n",
              "capital-gain                        0\n",
              "capital-loss                        0\n",
              "hours-per-week                     40\n",
              "native-country          United-States\n",
              "salary                           <50k\n",
              "Name: 804, dtype: object\n",
              "Path: /root/.fastai/data/adult_sample"
            ]
          },
          "metadata": {
            "tags": []
          },
          "execution_count": 9
        }
      ]
    },
    {
      "cell_type": "markdown",
      "metadata": {
        "id": "m_7mjRoxBPAP",
        "colab_type": "text"
      },
      "source": [
        "\n",
        "\n",
        "1.   split_by_idx()的参数是valid_idx，表示想要放入验证\n",
        "集的数据索引，下例将第800-1000条数据设置为验证集。验证集最好是连续一段数据，比如相邻的视频帧、相邻的时间等，因此split_by_idx()是经常使用的函数；\n",
        "2.path是执行save()时数据的存储位置；\n",
        "3.说明类别型变量（categorical variables）和连续型变量（continuous variables），因为在神经网络中要对这两种变量用不同的方法建模；categorical variables要用到embedding方法来处理，continuous variables的处理方式跟用神经网络处理像素类似。\n",
        "4.   \n",
        "label_from_df()从dataframe中获取标签，这里标签是‘salary’列；\n",
        "5. add_test()在databunch中加入test数据集,用来最后评测模型。\n",
        "\n"
      ]
    },
    {
      "cell_type": "code",
      "metadata": {
        "id": "Un8v7eOFB8LV",
        "colab_type": "code",
        "colab": {}
      },
      "source": [
        "data = (TabularList.from_df(df,path=path,cat_names=cat_names,cont_names=cont_names,procs=procs)\n",
        "           .split_by_idx(list(range(800,1000)))\n",
        "           .label_from_df(cols=dep_var)\n",
        "           .add_test(test,label=0)\n",
        "           .databunch())"
      ],
      "execution_count": 0,
      "outputs": []
    },
    {
      "cell_type": "code",
      "metadata": {
        "id": "OYq4SlnPUnse",
        "colab_type": "code",
        "outputId": "de49c068-a820-492d-9f28-ec1025d27b7e",
        "colab": {
          "base_uri": "https://localhost:8080/",
          "height": 651
        }
      },
      "source": [
        "data.show_batch(rows=10)#默认显示5行，这里rows参数设置显示的行数。"
      ],
      "execution_count": 0,
      "outputs": [
        {
          "output_type": "display_data",
          "data": {
            "text/html": [
              "<table border=\"1\" class=\"dataframe\">\n",
              "  <thead>\n",
              "    <tr style=\"text-align: right;\">\n",
              "      <th>workclass</th>\n",
              "      <th>education</th>\n",
              "      <th>marital-status</th>\n",
              "      <th>occupation</th>\n",
              "      <th>relationship</th>\n",
              "      <th>race</th>\n",
              "      <th>education-num_na</th>\n",
              "      <th>age</th>\n",
              "      <th>fnlwgt</th>\n",
              "      <th>education-num</th>\n",
              "      <th>target</th>\n",
              "    </tr>\n",
              "  </thead>\n",
              "  <tbody>\n",
              "    <tr>\n",
              "      <td>Local-gov</td>\n",
              "      <td>9th</td>\n",
              "      <td>Separated</td>\n",
              "      <td>Other-service</td>\n",
              "      <td>Other-relative</td>\n",
              "      <td>White</td>\n",
              "      <td>False</td>\n",
              "      <td>0.9098</td>\n",
              "      <td>-0.7131</td>\n",
              "      <td>-1.9869</td>\n",
              "      <td>&lt;50k</td>\n",
              "    </tr>\n",
              "    <tr>\n",
              "      <td>Private</td>\n",
              "      <td>HS-grad</td>\n",
              "      <td>Married-civ-spouse</td>\n",
              "      <td>Sales</td>\n",
              "      <td>Husband</td>\n",
              "      <td>White</td>\n",
              "      <td>False</td>\n",
              "      <td>0.2502</td>\n",
              "      <td>0.1376</td>\n",
              "      <td>-0.4224</td>\n",
              "      <td>&lt;50k</td>\n",
              "    </tr>\n",
              "    <tr>\n",
              "      <td>Private</td>\n",
              "      <td>Assoc-voc</td>\n",
              "      <td>Married-civ-spouse</td>\n",
              "      <td>Craft-repair</td>\n",
              "      <td>Husband</td>\n",
              "      <td>Asian-Pac-Islander</td>\n",
              "      <td>False</td>\n",
              "      <td>-0.7027</td>\n",
              "      <td>-0.4853</td>\n",
              "      <td>0.3599</td>\n",
              "      <td>&lt;50k</td>\n",
              "    </tr>\n",
              "    <tr>\n",
              "      <td>Private</td>\n",
              "      <td>Some-college</td>\n",
              "      <td>Never-married</td>\n",
              "      <td>Adm-clerical</td>\n",
              "      <td>Unmarried</td>\n",
              "      <td>Asian-Pac-Islander</td>\n",
              "      <td>False</td>\n",
              "      <td>-0.4095</td>\n",
              "      <td>1.0633</td>\n",
              "      <td>-0.0312</td>\n",
              "      <td>&lt;50k</td>\n",
              "    </tr>\n",
              "    <tr>\n",
              "      <td>Private</td>\n",
              "      <td>Prof-school</td>\n",
              "      <td>Married-civ-spouse</td>\n",
              "      <td>Prof-specialty</td>\n",
              "      <td>Husband</td>\n",
              "      <td>White</td>\n",
              "      <td>False</td>\n",
              "      <td>-0.8493</td>\n",
              "      <td>0.2369</td>\n",
              "      <td>1.9245</td>\n",
              "      <td>&gt;=50k</td>\n",
              "    </tr>\n",
              "    <tr>\n",
              "      <td>Private</td>\n",
              "      <td>HS-grad</td>\n",
              "      <td>Never-married</td>\n",
              "      <td>Sales</td>\n",
              "      <td>Own-child</td>\n",
              "      <td>White</td>\n",
              "      <td>False</td>\n",
              "      <td>-1.3624</td>\n",
              "      <td>0.3422</td>\n",
              "      <td>-0.4224</td>\n",
              "      <td>&lt;50k</td>\n",
              "    </tr>\n",
              "    <tr>\n",
              "      <td>Private</td>\n",
              "      <td>HS-grad</td>\n",
              "      <td>Never-married</td>\n",
              "      <td>Handlers-cleaners</td>\n",
              "      <td>Own-child</td>\n",
              "      <td>White</td>\n",
              "      <td>False</td>\n",
              "      <td>-1.4357</td>\n",
              "      <td>-1.1488</td>\n",
              "      <td>-0.4224</td>\n",
              "      <td>&lt;50k</td>\n",
              "    </tr>\n",
              "    <tr>\n",
              "      <td>Private</td>\n",
              "      <td>9th</td>\n",
              "      <td>Married-civ-spouse</td>\n",
              "      <td>Machine-op-inspct</td>\n",
              "      <td>Husband</td>\n",
              "      <td>White</td>\n",
              "      <td>False</td>\n",
              "      <td>-1.3624</td>\n",
              "      <td>-0.8893</td>\n",
              "      <td>-1.9869</td>\n",
              "      <td>&lt;50k</td>\n",
              "    </tr>\n",
              "    <tr>\n",
              "      <td>Private</td>\n",
              "      <td>HS-grad</td>\n",
              "      <td>Never-married</td>\n",
              "      <td>Adm-clerical</td>\n",
              "      <td>Not-in-family</td>\n",
              "      <td>White</td>\n",
              "      <td>False</td>\n",
              "      <td>0.6899</td>\n",
              "      <td>-0.2705</td>\n",
              "      <td>-0.4224</td>\n",
              "      <td>&lt;50k</td>\n",
              "    </tr>\n",
              "    <tr>\n",
              "      <td>Private</td>\n",
              "      <td>Assoc-acdm</td>\n",
              "      <td>Separated</td>\n",
              "      <td>Adm-clerical</td>\n",
              "      <td>Unmarried</td>\n",
              "      <td>White</td>\n",
              "      <td>False</td>\n",
              "      <td>0.6166</td>\n",
              "      <td>-0.7007</td>\n",
              "      <td>0.7511</td>\n",
              "      <td>&lt;50k</td>\n",
              "    </tr>\n",
              "  </tbody>\n",
              "</table>"
            ],
            "text/plain": [
              "<IPython.core.display.HTML object>"
            ]
          },
          "metadata": {
            "tags": []
          }
        }
      ]
    },
    {
      "cell_type": "markdown",
      "metadata": {
        "id": "p9QSLDPLdxMm",
        "colab_type": "text"
      },
      "source": [
        "## 创建tabular_learner并训练"
      ]
    },
    {
      "cell_type": "markdown",
      "metadata": {
        "id": "JI4bRrjdoGU0",
        "colab_type": "text"
      },
      "source": [
        "创建tabular_learner：\n",
        "\n",
        "传入TabularList类型的data；\n",
        "layers=[200,100]定义网络结构；\n",
        "\n",
        "metrics为训练过程中显示的数据，在这里matrics=accuracy显示准确率。"
      ]
    },
    {
      "cell_type": "code",
      "metadata": {
        "id": "iVMbrbRad0rM",
        "colab_type": "code",
        "colab": {}
      },
      "source": [
        "learn = tabular_learner(data,layers=[200,100],metrics=accuracy)"
      ],
      "execution_count": 0,
      "outputs": []
    },
    {
      "cell_type": "markdown",
      "metadata": {
        "id": "_dOWgnKqvoaz",
        "colab_type": "text"
      },
      "source": [
        "**fit()和fit_one_cycle()的区别：**\n",
        "\n",
        "fit()仅仅为基础训练的迭代方式，fit_one_cycle()用到了1cycle policy。1cycle policy的使用需要知道最优学习率，因此要在fit_one_cycle之前运行lr_find()函数。简单来说1cycle policy指三个训练步骤：\n",
        "\n",
        "1、学习率逐渐从lr_max/div_factor提高到lr_max，同时动量从mom_max降低到mom_min；\n",
        "2、学习率逐渐从lr_max降低到lr_max/div_factor，同时动量从mom_min提高到mom_max；\n",
        "3、学习率继续降低，从lr_max/div_factor降低到lr_max/（div_factor*100），动量维持在mom_max。\n",
        "\n",
        "相同的epoch训练，fit_one_cycle准确率更高，误差更小。\n",
        "\n",
        "详见[fit和fit_one_cycle](https://docs.fast.ai/callbacks.one_cycle.html#The-1cycle-policy)\n",
        "\n"
      ]
    },
    {
      "cell_type": "code",
      "metadata": {
        "id": "AdIWSTsgpYgQ",
        "colab_type": "code",
        "outputId": "69a81a3b-20de-4f9c-8e99-e994962289fd",
        "colab": {
          "base_uri": "https://localhost:8080/",
          "height": 80
        }
      },
      "source": [
        "learn.fit(1,1e-2)"
      ],
      "execution_count": 0,
      "outputs": [
        {
          "output_type": "display_data",
          "data": {
            "text/html": [
              "<table border=\"1\" class=\"dataframe\">\n",
              "  <thead>\n",
              "    <tr style=\"text-align: left;\">\n",
              "      <th>epoch</th>\n",
              "      <th>train_loss</th>\n",
              "      <th>valid_loss</th>\n",
              "      <th>accuracy</th>\n",
              "      <th>time</th>\n",
              "    </tr>\n",
              "  </thead>\n",
              "  <tbody>\n",
              "    <tr>\n",
              "      <td>0</td>\n",
              "      <td>0.365029</td>\n",
              "      <td>0.403114</td>\n",
              "      <td>0.825000</td>\n",
              "      <td>00:06</td>\n",
              "    </tr>\n",
              "  </tbody>\n",
              "</table>"
            ],
            "text/plain": [
              "<IPython.core.display.HTML object>"
            ]
          },
          "metadata": {
            "tags": []
          }
        }
      ]
    }
  ]
}